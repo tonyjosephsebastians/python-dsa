{
  "nbformat": 4,
  "nbformat_minor": 0,
  "metadata": {
    "colab": {
      "provenance": [],
      "authorship_tag": "ABX9TyMJYxKlTK2paHDaWXI8UqPi",
      "include_colab_link": true
    },
    "kernelspec": {
      "name": "python3",
      "display_name": "Python 3"
    },
    "language_info": {
      "name": "python"
    }
  },
  "cells": [
    {
      "cell_type": "markdown",
      "metadata": {
        "id": "view-in-github",
        "colab_type": "text"
      },
      "source": [
        "<a href=\"https://colab.research.google.com/github/tonyjosephsebastians/python-dsa/blob/main/Binary_Search_Trees%2C_Traversals_and_Recursion.ipynb\" target=\"_parent\"><img src=\"https://colab.research.google.com/assets/colab-badge.svg\" alt=\"Open In Colab\"/></a>"
      ]
    },
    {
      "cell_type": "markdown",
      "source": [
        "Problem\n",
        "In this notebook, we'll focus on solving the following problem:\n",
        "\n",
        "QUESTION 1: As a senior backend engineer at Jovian, you are tasked with developing a fast in-memory data structure to manage profile information (username, name and email) for 100 million users. It should allow the following operations to be performed efficiently:\n",
        "\n",
        "Insert the profile information for a new user.\n",
        "Find the profile information of a user, given their username\n",
        "Update the profile information of a user, given their usrname\n",
        "List all the users of the platform, sorted by username\n",
        "You can assume that usernames are unique.\n",
        "\n",
        "Along the way, we will also solve several other questions related to binary trees and binary search trees that are often asked in coding interviews and assessments."
      ],
      "metadata": {
        "id": "WJ6gxp3CxGP1"
      }
    },
    {
      "cell_type": "markdown",
      "source": [
        "## The Method\n",
        "\n",
        "\n",
        "Here's a systematic strategy we'll apply for solving problems:\n",
        "\n",
        "1. State the problem clearly. Identify the input & output formats.\n",
        "2. Come up with some example inputs & outputs. Try to cover all edge cases.\n",
        "3. Come up with a correct solution for the problem. State it in plain English.\n",
        "4. Implement the solution and test it using example inputs. Fix bugs, if any.\n",
        "5. Analyze the algorithm's complexity and identify inefficiencies, if any.\n",
        "6. Apply the right technique to overcome the inefficiency. Repeat steps 3 to 6.\n"
      ],
      "metadata": {
        "id": "WpXEw1QMxPFA"
      }
    },
    {
      "cell_type": "code",
      "source": [
        "class User:\n",
        "    pass"
      ],
      "metadata": {
        "id": "4HA47tqhxHmw"
      },
      "execution_count": null,
      "outputs": []
    },
    {
      "cell_type": "code",
      "source": [
        "user1 = User()"
      ],
      "metadata": {
        "id": "2ZHRyv-SyFQz"
      },
      "execution_count": null,
      "outputs": []
    },
    {
      "cell_type": "code",
      "source": [
        "user1"
      ],
      "metadata": {
        "colab": {
          "base_uri": "https://localhost:8080/"
        },
        "id": "XEyP3ufayNum",
        "outputId": "348f9a05-e4b9-439a-a367-29f27084a6f1"
      },
      "execution_count": null,
      "outputs": [
        {
          "output_type": "execute_result",
          "data": {
            "text/plain": [
              "<__main__.User at 0x7a9a617ee4e0>"
            ]
          },
          "metadata": {},
          "execution_count": 8
        }
      ]
    },
    {
      "cell_type": "code",
      "source": [
        "type(user1)"
      ],
      "metadata": {
        "colab": {
          "base_uri": "https://localhost:8080/"
        },
        "id": "CSRb6w6ByRBn",
        "outputId": "5c70e673-c17c-406a-e937-26d10435a8c2"
      },
      "execution_count": null,
      "outputs": [
        {
          "output_type": "execute_result",
          "data": {
            "text/plain": [
              "__main__.User"
            ]
          },
          "metadata": {},
          "execution_count": 9
        }
      ]
    },
    {
      "cell_type": "code",
      "source": [
        "class User:\n",
        "\n",
        "  def __init__(self,username,name,email):\n",
        "    self.username = username\n",
        "    self.name = name\n",
        "    self.email = email\n",
        "\n",
        "    print('User created!')"
      ],
      "metadata": {
        "id": "_0lmXO6xyXjB"
      },
      "execution_count": null,
      "outputs": []
    },
    {
      "cell_type": "code",
      "source": [
        "user2 = User('John','Johm Mathew','jonmathew@gail.com')"
      ],
      "metadata": {
        "colab": {
          "base_uri": "https://localhost:8080/"
        },
        "id": "-OGWG2_MyzUa",
        "outputId": "0493b65f-b896-4d72-fcff-34f135281c39"
      },
      "execution_count": null,
      "outputs": [
        {
          "output_type": "stream",
          "name": "stdout",
          "text": [
            "User created!\n"
          ]
        }
      ]
    },
    {
      "cell_type": "code",
      "source": [
        "user2"
      ],
      "metadata": {
        "colab": {
          "base_uri": "https://localhost:8080/"
        },
        "id": "i9SIPM68zG79",
        "outputId": "cc36af34-3f92-46d6-dcff-095cf45ff739"
      },
      "execution_count": null,
      "outputs": [
        {
          "output_type": "execute_result",
          "data": {
            "text/plain": [
              "<__main__.User at 0x7a9a617926f0>"
            ]
          },
          "metadata": {},
          "execution_count": 12
        }
      ]
    },
    {
      "cell_type": "code",
      "source": [
        "type(user2)"
      ],
      "metadata": {
        "colab": {
          "base_uri": "https://localhost:8080/",
          "height": 104
        },
        "id": "lpYZJIpGzH9l",
        "outputId": "11e96bb8-e4f6-4284-b0ba-ec7a6d09cd72"
      },
      "execution_count": null,
      "outputs": [
        {
          "output_type": "execute_result",
          "data": {
            "text/plain": [
              "__main__.User"
            ],
            "text/html": [
              "<div style=\"max-width:800px; border: 1px solid var(--colab-border-color);\"><style>\n",
              "      pre.function-repr-contents {\n",
              "        overflow-x: auto;\n",
              "        padding: 8px 12px;\n",
              "        max-height: 500px;\n",
              "      }\n",
              "\n",
              "      pre.function-repr-contents.function-repr-contents-collapsed {\n",
              "        cursor: pointer;\n",
              "        max-height: 100px;\n",
              "      }\n",
              "    </style>\n",
              "    <pre style=\"white-space: initial; background:\n",
              "         var(--colab-secondary-surface-color); padding: 8px 12px;\n",
              "         border-bottom: 1px solid var(--colab-border-color);\"><b>User</b><br/>def __init__(username, name, email)</pre><pre class=\"function-repr-contents function-repr-contents-collapsed\" style=\"\"><a class=\"filepath\" style=\"display:none\" href=\"#\"></a>&lt;no docstring&gt;</pre></div>"
            ]
          },
          "metadata": {},
          "execution_count": 13
        }
      ]
    },
    {
      "cell_type": "code",
      "source": [
        "user2.email"
      ],
      "metadata": {
        "colab": {
          "base_uri": "https://localhost:8080/",
          "height": 35
        },
        "id": "wAQEaofRzK2t",
        "outputId": "41452254-8f91-449c-f6b6-a22850d4ff2c"
      },
      "execution_count": null,
      "outputs": [
        {
          "output_type": "execute_result",
          "data": {
            "text/plain": [
              "'jonmathew@gail.com'"
            ],
            "application/vnd.google.colaboratory.intrinsic+json": {
              "type": "string"
            }
          },
          "metadata": {},
          "execution_count": 14
        }
      ]
    },
    {
      "cell_type": "code",
      "source": [
        "user2.name"
      ],
      "metadata": {
        "colab": {
          "base_uri": "https://localhost:8080/",
          "height": 35
        },
        "id": "DXK7kve_zb6k",
        "outputId": "7e6286c8-d0ca-4946-9bcd-49834eca69a2"
      },
      "execution_count": null,
      "outputs": [
        {
          "output_type": "execute_result",
          "data": {
            "text/plain": [
              "'Johm Mathew'"
            ],
            "application/vnd.google.colaboratory.intrinsic+json": {
              "type": "string"
            }
          },
          "metadata": {},
          "execution_count": 15
        }
      ]
    },
    {
      "cell_type": "code",
      "source": [
        "class User:\n",
        "\n",
        "  def __init__(self,username,name,email):\n",
        "    self.username = username\n",
        "    self.name = name\n",
        "    self.email = email\n",
        "\n",
        "  def introduce_yourself(self,guestname):\n",
        "    print(\"Hi {}, I'm {}! Contact me at {} .\".format(guestname,self.name,self.email))"
      ],
      "metadata": {
        "id": "Q4c0sF1Sze4i"
      },
      "execution_count": null,
      "outputs": []
    },
    {
      "cell_type": "code",
      "source": [
        "user3 = User('John','Johm Mathew','jonmathew@gail.com')"
      ],
      "metadata": {
        "id": "yMR5il9n0RG3"
      },
      "execution_count": null,
      "outputs": []
    },
    {
      "cell_type": "code",
      "source": [
        "user3.introduce_yourself('James')"
      ],
      "metadata": {
        "colab": {
          "base_uri": "https://localhost:8080/"
        },
        "id": "qFbK88DZ0TZt",
        "outputId": "35584dd6-e787-4aea-a110-cf4fc4a60582"
      },
      "execution_count": null,
      "outputs": [
        {
          "output_type": "stream",
          "name": "stdout",
          "text": [
            "Hi James, I'm Johm Mathew! Contact me at jonmathew@gail.com .\n"
          ]
        }
      ]
    },
    {
      "cell_type": "code",
      "source": [
        "User.introduce_yourself(user3, 'David')"
      ],
      "metadata": {
        "colab": {
          "base_uri": "https://localhost:8080/"
        },
        "id": "u3tpX1wq0XVw",
        "outputId": "cff9a32a-b2ff-4b24-fedd-fddd7f605345"
      },
      "execution_count": null,
      "outputs": [
        {
          "output_type": "stream",
          "name": "stdout",
          "text": [
            "Hi David, I'm Johm Mathew! Contact me at jonmathew@gail.com .\n"
          ]
        }
      ]
    },
    {
      "cell_type": "code",
      "source": [
        "class User:\n",
        "\n",
        "  def __init__(self,username,name,email):\n",
        "    self.username = username\n",
        "    self.name = name\n",
        "    self.email = email\n",
        "\n",
        "  def __repr__(self) -> str:\n",
        "    return \"User(username='{}',name='{}',email='{}')\".format(self.username,self.name,self.email)\n",
        "\n",
        "  def __str__(self) -> str:\n",
        "    return self.__repr__()"
      ],
      "metadata": {
        "id": "PL5o21eI0gCE"
      },
      "execution_count": null,
      "outputs": []
    },
    {
      "cell_type": "code",
      "source": [
        "user4 = User('jane', 'Jane Doe', 'jane@doe.com')"
      ],
      "metadata": {
        "id": "VnW_nQPb1VSd"
      },
      "execution_count": null,
      "outputs": []
    },
    {
      "cell_type": "code",
      "source": [
        "user4"
      ],
      "metadata": {
        "colab": {
          "base_uri": "https://localhost:8080/"
        },
        "id": "_mSKsxfd1Ybr",
        "outputId": "7591097a-7baf-46a9-f0b0-c11f3953b631"
      },
      "execution_count": null,
      "outputs": [
        {
          "output_type": "execute_result",
          "data": {
            "text/plain": [
              "User(username='jane',name='Jane Doe',email='jane@doe.com')"
            ]
          },
          "metadata": {},
          "execution_count": 23
        }
      ]
    },
    {
      "cell_type": "markdown",
      "source": [
        "#Sub Problems"
      ],
      "metadata": {
        "id": "pYHKUTRH1hPz"
      }
    },
    {
      "cell_type": "markdown",
      "source": [
        "Problem\n",
        "In this notebook, we'll focus our discussion on the following problem:\n",
        "\n",
        "QUESTION: Write a function to reverse a linked list\n",
        "\n",
        "Before we answer this question, we need to answer:\n",
        "\n",
        "What do we mean by linked list?\n",
        "How do we create a linked list in Python?\n",
        "How do we store numbers in a linked list?\n",
        "How do we retrieve numbers in a linked list"
      ],
      "metadata": {
        "id": "J07UVwNR1kSU"
      }
    },
    {
      "cell_type": "markdown",
      "source": [
        "Linked List\n",
        "A linked list is a data structure used for storing a sequence of elements. It's data with some structure (the sequence).\n",
        "\n",
        "alt\n",
        "\n",
        "We'll implement linked lists which support the following operations:\n",
        "\n",
        "Create a list with given elements\n",
        "Display the elements in a list\n",
        "Find the number of elements in a list\n",
        "Retrieve the element at a given position\n",
        "Add or remove element(s)\n",
        "(can you think of any more?)"
      ],
      "metadata": {
        "id": "FPdkXBsR2wRu"
      }
    },
    {
      "cell_type": "code",
      "source": [
        "class Node():\n",
        "    pass"
      ],
      "metadata": {
        "id": "hpqWbjgI1jr5"
      },
      "execution_count": null,
      "outputs": []
    },
    {
      "cell_type": "code",
      "source": [
        "node = Node()\n",
        "node"
      ],
      "metadata": {
        "colab": {
          "base_uri": "https://localhost:8080/"
        },
        "id": "_44Yz7XG-l-8",
        "outputId": "f421fba3-8d1a-4299-865c-a6162f11495f"
      },
      "execution_count": null,
      "outputs": [
        {
          "output_type": "execute_result",
          "data": {
            "text/plain": [
              "<__main__.Node at 0x7a9a61922450>"
            ]
          },
          "metadata": {},
          "execution_count": 25
        }
      ]
    },
    {
      "cell_type": "code",
      "source": [
        "node2 = Node()\n",
        "node2"
      ],
      "metadata": {
        "colab": {
          "base_uri": "https://localhost:8080/"
        },
        "id": "zjOY_ZRS-r_M",
        "outputId": "fee84235-7372-48bf-f249-b698230e2144"
      },
      "execution_count": null,
      "outputs": [
        {
          "output_type": "execute_result",
          "data": {
            "text/plain": [
              "<__main__.Node at 0x7a9a617934a0>"
            ]
          },
          "metadata": {},
          "execution_count": 26
        }
      ]
    },
    {
      "cell_type": "code",
      "source": [
        "node3 = node2\n",
        "node3"
      ],
      "metadata": {
        "colab": {
          "base_uri": "https://localhost:8080/"
        },
        "id": "6mgPcRXF-yC2",
        "outputId": "374835aa-1b94-4f75-cd40-aa9f50c515ca"
      },
      "execution_count": null,
      "outputs": [
        {
          "output_type": "execute_result",
          "data": {
            "text/plain": [
              "<__main__.Node at 0x7a9a617934a0>"
            ]
          },
          "metadata": {},
          "execution_count": 27
        }
      ]
    },
    {
      "cell_type": "code",
      "source": [
        "class Node():\n",
        "  def __init__(self):\n",
        "    self.data = 0"
      ],
      "metadata": {
        "id": "8WpJ_8er_Ppp"
      },
      "execution_count": null,
      "outputs": []
    },
    {
      "cell_type": "code",
      "source": [
        "node4 = Node()\n",
        "node4.data"
      ],
      "metadata": {
        "colab": {
          "base_uri": "https://localhost:8080/"
        },
        "id": "fpm_n0R5_-pY",
        "outputId": "7772d5da-9e53-481c-989f-db942f33f30b"
      },
      "execution_count": null,
      "outputs": [
        {
          "output_type": "execute_result",
          "data": {
            "text/plain": [
              "0"
            ]
          },
          "metadata": {},
          "execution_count": 31
        }
      ]
    },
    {
      "cell_type": "code",
      "source": [
        "class Node():\n",
        "  def __init__(self,_number_):\n",
        "    self.data = _number_\n",
        "    self.next = None"
      ],
      "metadata": {
        "id": "tSzmtI0xAC_s"
      },
      "execution_count": null,
      "outputs": []
    },
    {
      "cell_type": "code",
      "source": [
        "node1 = Node(1)\n",
        "node2 = Node(2)\n",
        "node3 = Node(3)\n",
        "\n",
        "node1.data , node2.data , node3.data"
      ],
      "metadata": {
        "colab": {
          "base_uri": "https://localhost:8080/"
        },
        "id": "Z0uXHekbAXFA",
        "outputId": "7fac4ae2-39e1-4427-f225-c8dbd49fdeac"
      },
      "execution_count": null,
      "outputs": [
        {
          "output_type": "execute_result",
          "data": {
            "text/plain": [
              "(1, 2, 3)"
            ]
          },
          "metadata": {},
          "execution_count": 33
        }
      ]
    },
    {
      "cell_type": "code",
      "source": [
        "class LinkedList():\n",
        "  def __init__(self):\n",
        "    self.head = None"
      ],
      "metadata": {
        "id": "S29WDRjEAgo1"
      },
      "execution_count": null,
      "outputs": []
    },
    {
      "cell_type": "code",
      "source": [
        "list1 = LinkedList()\n",
        "list1.head"
      ],
      "metadata": {
        "id": "hx5OqRUkBMu1"
      },
      "execution_count": null,
      "outputs": []
    },
    {
      "cell_type": "code",
      "source": [
        "list1.head = Node(1)\n",
        "list1.head.next = Node(2)\n",
        "list1.head.next.next = Node(3)"
      ],
      "metadata": {
        "id": "qwXFICqcBPHS"
      },
      "execution_count": null,
      "outputs": []
    },
    {
      "cell_type": "code",
      "source": [
        "list1.head.data , list1.head.next.data , list1.head.next.next.data"
      ],
      "metadata": {
        "colab": {
          "base_uri": "https://localhost:8080/"
        },
        "id": "spOnNcC0Bhq3",
        "outputId": "21c96875-feff-4e13-9fee-37c312254378"
      },
      "execution_count": null,
      "outputs": [
        {
          "output_type": "execute_result",
          "data": {
            "text/plain": [
              "(1, 2, 3)"
            ]
          },
          "metadata": {},
          "execution_count": 38
        }
      ]
    },
    {
      "cell_type": "markdown",
      "source": [
        "##insert into linkeldn list"
      ],
      "metadata": {
        "id": "2D51KeMGBymu"
      }
    },
    {
      "cell_type": "code",
      "source": [
        "class LinkedList():\n",
        "  def __init__(self):\n",
        "    self.head = None\n",
        "\n",
        "  def append(self,value):\n",
        "    if self.head is None:\n",
        "      self.head = Node(value)\n",
        "    else:\n",
        "      currentnode = self.head\n",
        "      while currentnode.next != None:\n",
        "        currentnode = currentnode.next\n",
        "      currentnode.next = Node(value)"
      ],
      "metadata": {
        "id": "uJbpGnRMBlHL"
      },
      "execution_count": null,
      "outputs": []
    },
    {
      "cell_type": "code",
      "source": [
        "list2 = LinkedList()\n",
        "list2.append(1)\n",
        "list2.append(2)\n",
        "list2.append(3)"
      ],
      "metadata": {
        "id": "cQoJPvm1CPAM"
      },
      "execution_count": null,
      "outputs": []
    },
    {
      "cell_type": "code",
      "source": [
        "list2.head.data , list2.head.next.data , list2.head.next.next.data"
      ],
      "metadata": {
        "colab": {
          "base_uri": "https://localhost:8080/"
        },
        "id": "29hKrNvoCRkz",
        "outputId": "a9f00edc-11f9-455e-e684-33c63588ad5b"
      },
      "execution_count": null,
      "outputs": [
        {
          "output_type": "execute_result",
          "data": {
            "text/plain": [
              "(1, 2, 3)"
            ]
          },
          "metadata": {},
          "execution_count": 44
        }
      ]
    },
    {
      "cell_type": "code",
      "source": [
        "class LinkedList():\n",
        "  def __init__(self):\n",
        "    self.head = None\n",
        "\n",
        "  def append(self,value):\n",
        "    if self.head is None:\n",
        "      self.head = Node(value)\n",
        "    else:\n",
        "      currentnode = self.head\n",
        "      while currentnode.next != None:\n",
        "        currentnode = currentnode.next\n",
        "      currentnode.next = Node(value)\n",
        "\n",
        "  def showElements(self):\n",
        "    currentnode = self.head\n",
        "    while currentnode !=None:\n",
        "      print(currentnode.data)\n",
        "      currentnode = currentnode.next\n"
      ],
      "metadata": {
        "id": "-OyXoawuCmwH"
      },
      "execution_count": null,
      "outputs": []
    },
    {
      "cell_type": "code",
      "source": [
        "list2 = LinkedList()\n",
        "list2.append(1)\n",
        "list2.append(2)\n",
        "list2.append(3)"
      ],
      "metadata": {
        "id": "ztInanilDEPh"
      },
      "execution_count": null,
      "outputs": []
    },
    {
      "cell_type": "code",
      "source": [
        "list2.showElements()"
      ],
      "metadata": {
        "colab": {
          "base_uri": "https://localhost:8080/"
        },
        "id": "1FLSSPpLDGAI",
        "outputId": "93204045-01e4-43a7-ce0a-3adfeb6ea847"
      },
      "execution_count": null,
      "outputs": [
        {
          "output_type": "stream",
          "name": "stdout",
          "text": [
            "1\n",
            "2\n",
            "3\n"
          ]
        }
      ]
    },
    {
      "cell_type": "code",
      "source": [
        "class LinkedList():\n",
        "  def __init__(self):\n",
        "    self.head = None\n",
        "\n",
        "  def append(self,value):\n",
        "    if self.head is None:\n",
        "      self.head = Node(value)\n",
        "    else:\n",
        "      currentnode = self.head\n",
        "      while currentnode.next != None:\n",
        "        currentnode = currentnode.next\n",
        "      currentnode.next = Node(value)\n",
        "\n",
        "  def showElements(self):\n",
        "    currentnode = self.head\n",
        "    while currentnode !=None:\n",
        "      print(currentnode.data)\n",
        "      currentnode = currentnode.next\n",
        "\n",
        "  def length(self):\n",
        "    currentnode = self.head\n",
        "    count = 0\n",
        "    while currentnode !=None:\n",
        "      count += 1\n",
        "      currentnode = currentnode.next\n",
        "    return count\n",
        "\n",
        "  def getelement(self,index):\n",
        "    position = 0\n",
        "    currentnode = self.head\n",
        "    while currentnode !=None:\n",
        "      if position == index:\n",
        "        return currentnode.data\n",
        "      position += 1\n",
        "      currentnode = currentnode.next\n",
        "    return None"
      ],
      "metadata": {
        "id": "fPQmQ6aZDIZT"
      },
      "execution_count": null,
      "outputs": []
    },
    {
      "cell_type": "code",
      "source": [
        "list2 = LinkedList()\n",
        "list2.append(1)\n",
        "list2.append(2)\n",
        "list2.append(3)"
      ],
      "metadata": {
        "id": "Bf3XE-rEEe5e"
      },
      "execution_count": null,
      "outputs": []
    },
    {
      "cell_type": "code",
      "source": [
        "list2.length()"
      ],
      "metadata": {
        "colab": {
          "base_uri": "https://localhost:8080/"
        },
        "id": "q7MAhF8dEh9Z",
        "outputId": "dc71eed2-6b4c-41a2-bc67-4650649cff15"
      },
      "execution_count": null,
      "outputs": [
        {
          "output_type": "execute_result",
          "data": {
            "text/plain": [
              "3"
            ]
          },
          "metadata": {},
          "execution_count": 50
        }
      ]
    },
    {
      "cell_type": "code",
      "source": [
        "list2.getelement(0)"
      ],
      "metadata": {
        "colab": {
          "base_uri": "https://localhost:8080/"
        },
        "id": "9seVderpEkyW",
        "outputId": "fdf39218-211f-4a4a-ce79-428b94b82c47"
      },
      "execution_count": null,
      "outputs": [
        {
          "output_type": "execute_result",
          "data": {
            "text/plain": [
              "1"
            ]
          },
          "metadata": {},
          "execution_count": 53
        }
      ]
    },
    {
      "cell_type": "markdown",
      "source": [
        "Reversing a Linked List - Solution"
      ],
      "metadata": {
        "id": "ccpkydiREtXs"
      }
    },
    {
      "cell_type": "code",
      "source": [
        "def reverse(list_data):\n",
        "  if list_data.head is None:\n",
        "    return\n",
        "\n",
        "  currentnode = list_data.head\n",
        "  prevnode = None\n",
        "\n",
        "  while currentnode !=None:\n",
        "    nextnode = currentnode.next\n",
        "    print(currentnode.data)\n",
        "    currentnode.next = prevnode\n",
        "    print(currentnode.data)\n",
        "    prevnode = currentnode\n",
        "    print(prevnode.data)\n",
        "    currentnode = nextnode\n",
        "  list_data.head = prevnode"
      ],
      "metadata": {
        "id": "Owzl6h2PEoSS"
      },
      "execution_count": null,
      "outputs": []
    },
    {
      "cell_type": "code",
      "source": [
        "list2 = LinkedList()\n",
        "list2.append(2)\n",
        "list2.append(3)\n",
        "list2.append(5)\n",
        "list2.append(9)"
      ],
      "metadata": {
        "id": "rGd68-zyFYZB"
      },
      "execution_count": null,
      "outputs": []
    },
    {
      "cell_type": "code",
      "source": [
        "reverse(list2)"
      ],
      "metadata": {
        "colab": {
          "base_uri": "https://localhost:8080/"
        },
        "id": "66sWO1mjFazI",
        "outputId": "cfcd83bd-7ce6-4b40-9879-b758ec0489a3"
      },
      "execution_count": null,
      "outputs": [
        {
          "output_type": "stream",
          "name": "stdout",
          "text": [
            "2\n",
            "2\n",
            "2\n",
            "3\n",
            "3\n",
            "3\n",
            "5\n",
            "5\n",
            "5\n",
            "9\n",
            "9\n",
            "9\n"
          ]
        }
      ]
    },
    {
      "cell_type": "code",
      "source": [
        "list2.showElements()"
      ],
      "metadata": {
        "colab": {
          "base_uri": "https://localhost:8080/"
        },
        "id": "rUCJVU65GXfK",
        "outputId": "9d761d26-27e2-487a-ac0f-2c8080e4697d"
      },
      "execution_count": null,
      "outputs": [
        {
          "output_type": "stream",
          "name": "stdout",
          "text": [
            "9\n",
            "5\n",
            "3\n",
            "2\n"
          ]
        }
      ]
    },
    {
      "cell_type": "markdown",
      "source": [
        "##purpse of str and repr"
      ],
      "metadata": {
        "id": "6VjSStU3HpHg"
      }
    },
    {
      "cell_type": "code",
      "source": [
        "class Person:\n",
        "    def __init__(self, name, age):\n",
        "        self.name = name\n",
        "        self.age = age\n",
        "\n",
        "    # User-friendly\n",
        "    def __str__(self):\n",
        "        return f\"{self.name}, {self.age} years old\"\n",
        "\n",
        "    # Developer-friendly\n",
        "    def __repr__(self):\n",
        "        return f\"Person(name={self.name!r}, age={self.age!r})\"\n",
        "\n",
        "# Create object\n",
        "p = Person(\"Alice\", 30)\n",
        "\n",
        "print(str(p))     # Calls __str__\n",
        "print(repr(p))    # Calls __repr__\n",
        "\n",
        "# In interactive mode (like a REPL / Jupyter)\n",
        "p\n"
      ],
      "metadata": {
        "colab": {
          "base_uri": "https://localhost:8080/"
        },
        "id": "xv4cJza4HsOx",
        "outputId": "91a8ce30-2697-438a-f2c1-91df1959d2c1"
      },
      "execution_count": null,
      "outputs": [
        {
          "output_type": "stream",
          "name": "stdout",
          "text": [
            "Alice, 30 years old\n",
            "Person(name='Alice', age=30)\n"
          ]
        },
        {
          "output_type": "execute_result",
          "data": {
            "text/plain": [
              "Person(name='Alice', age=30)"
            ]
          },
          "metadata": {},
          "execution_count": 69
        }
      ]
    },
    {
      "cell_type": "code",
      "source": [
        "class Book:\n",
        "    def __init__(self, title, author):\n",
        "        self.title = title\n",
        "        self.author = author\n",
        "\n",
        "    def __repr__(self):\n",
        "        return f\"Book({self.title!r}, {self.author!r})\"\n",
        "\n",
        "b = Book(\"1984\", \"George Orwell\")\n",
        "\n",
        "print(b)       # Falls back to __repr__\n",
        "repr(b)"
      ],
      "metadata": {
        "colab": {
          "base_uri": "https://localhost:8080/",
          "height": 52
        },
        "id": "i4HWcAbyHvdG",
        "outputId": "a6713f6d-299d-44b7-dc41-e27e4f51417c"
      },
      "execution_count": null,
      "outputs": [
        {
          "output_type": "stream",
          "name": "stdout",
          "text": [
            "Book('1984', 'George Orwell')\n"
          ]
        },
        {
          "output_type": "execute_result",
          "data": {
            "text/plain": [
              "\"Book('1984', 'George Orwell')\""
            ],
            "application/vnd.google.colaboratory.intrinsic+json": {
              "type": "string"
            }
          },
          "metadata": {},
          "execution_count": 70
        }
      ]
    },
    {
      "cell_type": "code",
      "source": [
        "class Car:\n",
        "    def __init__(self, brand):\n",
        "        self.brand = brand\n",
        "\n",
        "c = Car(\"Tesla\")\n",
        "print(c)\n"
      ],
      "metadata": {
        "colab": {
          "base_uri": "https://localhost:8080/"
        },
        "id": "IYKPO-rIH00d",
        "outputId": "e0bd0aa7-6ec1-4895-c692-301a536c71a4"
      },
      "execution_count": null,
      "outputs": [
        {
          "output_type": "stream",
          "name": "stdout",
          "text": [
            "<__main__.Car object at 0x7a9a617af350>\n"
          ]
        }
      ]
    },
    {
      "cell_type": "code",
      "source": [],
      "metadata": {
        "id": "CdmHY1kcH6kU"
      },
      "execution_count": null,
      "outputs": []
    }
  ]
}